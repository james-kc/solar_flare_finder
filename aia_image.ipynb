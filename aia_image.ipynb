{
 "cells": [
  {
   "cell_type": "code",
   "execution_count": 9,
   "metadata": {},
   "outputs": [],
   "source": [
    "from sunpy.net import Fido, attrs as a\n",
    "from astropy import units as u\n",
    "import matplotlib.pyplot as plt\n",
    "import sunpy.map\n",
    "from astropy.coordinates import SkyCoord\n",
    "from astropy.visualization import AsymmetricPercentileInterval, ImageNormalize, LogStretch\n",
    "from astropy.visualization import ImageNormalize, SqrtStretch, PowerStretch\n",
    "import pandas as pd\n",
    "# import glob\n",
    "# from stixpy.net import client\n",
    "# import sunpy_soar"
   ]
  },
  {
   "cell_type": "code",
   "execution_count": 10,
   "metadata": {},
   "outputs": [
    {
     "name": "stderr",
     "output_type": "stream",
     "text": [
      "Files Downloaded: 100%|██████████| 1/1 [00:01<00:00,  1.27s/file]\n"
     ]
    }
   ],
   "source": [
    "flare_time_range = ['2013-11-09 06:38:00', '2013-11-09 06:38:11']\n",
    "\n",
    "# Band  FWHM    Primary role,                                           Typical Temperature\n",
    "# (Å)   (Δλ, Å) ion(s)          Region of the Sun's atmosphere\t        (as log T[K])\n",
    "# \n",
    "# 335   16.5\tFe xvi\t        Active region corona\t                6.4\n",
    "# 304   12.7\tHe ii\t        Chromosphere, transition region\t        4.7\n",
    "# 211\t7.0\t    Fe xiv\t        Active region corona\t                6.3\n",
    "# 193\t6.0\t    Fe xii, xxiv\tCorona and hot flare plasma\t            6.1, 7.3\n",
    "# 171\t4.7\t    Fe ix\t        Quiet corona, upper transition region   5.8\n",
    "# 131\t4.4\t    Fe xx, xxiii\tFlaring regions\t                        7.0, 7.2\n",
    "# 94\t0.9\t    Fe xviii\t    Flaring regions\t                        6.8\n",
    "\n",
    "# wavelength = 335  # Active region corona                      - okay, footpoints & some loop?\n",
    "# wavelength = 304  # Chromosphere, transition region           - interesting, footpoints?\n",
    "# wavelength = 211  # Active region corona                      - nice, but not much flare\n",
    "# wavelength = 193  # Corona and hot flare plasma               - nice, but not much flare\n",
    "# wavelength = 171  # Quiet corona, upper transition region     - good\n",
    "wavelength = 131  # Flaring regions                           - good\n",
    "# wavelength = 94   # Flaring regions                           - trash\n",
    "\n",
    "result = Fido.search(\n",
    "    a.Time(flare_time_range[0], flare_time_range[-1]),\n",
    "    a.Instrument(\"AIA\"), \n",
    "    a.Wavelength(wavelength * u.angstrom),\n",
    "    a.Sample(1/60 * u.min)\n",
    ")\n",
    "\n",
    "aia_fits_path = Fido.fetch(result, path = 'aia_data')"
   ]
  },
  {
   "cell_type": "code",
   "execution_count": 24,
   "metadata": {},
   "outputs": [],
   "source": [
    "def fov_vertices(xcen, ycen, fovx, fovy):\n",
    "    top_right = (xcen + (fovx/2), ycen + (fovy/2))\n",
    "    bottom_left = (xcen - (fovx/2), ycen - (fovy/2))\n",
    "\n",
    "    return top_right, bottom_left"
   ]
  },
  {
   "cell_type": "code",
   "execution_count": 31,
   "metadata": {},
   "outputs": [
    {
     "name": "stderr",
     "output_type": "stream",
     "text": [
      "c:\\Users\\james\\Documents\\Coding\\sff_experimentation\\venv\\Lib\\site-packages\\astropy\\visualization\\wcsaxes\\patches.py:196: UserWarning: Setting the 'color' property will override the edgecolor or facecolor properties.\n",
      "  super().__init__(vertices, **kwargs)\n",
      "c:\\Users\\james\\Documents\\Coding\\sff_experimentation\\venv\\Lib\\site-packages\\astropy\\visualization\\wcsaxes\\patches.py:196: UserWarning: Setting the 'color' property will override the edgecolor or facecolor properties.\n",
      "  super().__init__(vertices, **kwargs)\n",
      "c:\\Users\\james\\Documents\\Coding\\sff_experimentation\\venv\\Lib\\site-packages\\astropy\\visualization\\wcsaxes\\patches.py:196: UserWarning: Setting the 'color' property will override the edgecolor or facecolor properties.\n",
      "  super().__init__(vertices, **kwargs)\n",
      "c:\\Users\\james\\Documents\\Coding\\sff_experimentation\\venv\\Lib\\site-packages\\astropy\\visualization\\wcsaxes\\patches.py:196: UserWarning: Setting the 'color' property will override the edgecolor or facecolor properties.\n",
      "  super().__init__(vertices, **kwargs)\n"
     ]
    }
   ],
   "source": [
    "plot_font = {'fontname':'Times New Roman'}\n",
    "\n",
    "aia_map = sunpy.map.Map(aia_fits_path[0])\n",
    "aia_map.plot(clip_interval=(0.1, 99.99)*u.percent)\n",
    "\n",
    "normalise = False\n",
    "\n",
    "if normalise:\n",
    "    norm = ImageNormalize(vmin=0, vmax=200, stretch=SqrtStretch())\n",
    "    aia_map.plot(norm=norm)\n",
    "    normalised = \"_normalised\"\n",
    "else:\n",
    "    normalised = \"\"\n",
    "\n",
    "aia_map.draw_limb()\n",
    "aia_map.draw_grid()\n",
    "\n",
    "sub_disk_instruments = ['eis', 'iris', 'sot', 'xrt']\n",
    "\n",
    "instrument_colour_legend = {\n",
    "    'eis': 'cyan',\n",
    "    'iris': 'red',\n",
    "    'sot': 'purple',\n",
    "    'xrt': 'green'\n",
    "}\n",
    "\n",
    "for instr in sub_disk_instruments:\n",
    "    pointing_df = pd.read_csv(f\"aia_data/{instr}_pointing_2013.csv\")\n",
    "    first = True\n",
    "\n",
    "    for _, row in pointing_df.iterrows():\n",
    "\n",
    "        top_right_coord, bottom_left_coord = fov_vertices(\n",
    "            row['XCEN'], row['YCEN'], row['FOVX'], row['FOVY']\n",
    "        )\n",
    "\n",
    "        # Drawing boxes\n",
    "        top_right = SkyCoord(\n",
    "            top_right_coord[0]*u.arcsec, \n",
    "            top_right_coord[1]*u.arcsec, \n",
    "            frame=aia_map.coordinate_frame\n",
    "        )\n",
    "\n",
    "        bottom_left = SkyCoord(\n",
    "            bottom_left_coord[0]*u.arcsec,\n",
    "            bottom_left_coord[1]*u.arcsec,\n",
    "            frame=aia_map.coordinate_frame\n",
    "        )\n",
    "\n",
    "        if first:\n",
    "            aia_map.draw_quadrangle(\n",
    "                bottom_left,\n",
    "                top_right=top_right,\n",
    "                color=instrument_colour_legend.get(instr),\n",
    "                linewidth=1,\n",
    "                label=instr.upper()\n",
    "            )\n",
    "            first = False\n",
    "        else:\n",
    "            aia_map.draw_quadrangle(\n",
    "                bottom_left,\n",
    "                top_right=top_right,\n",
    "                color=instrument_colour_legend.get(instr),\n",
    "                linewidth=1\n",
    "            )\n",
    "\n",
    "plt.legend(loc='upper right')\n",
    "\n",
    "plt.savefig(\n",
    "    f\"plots/2013_well_observed_flare_AIA_{wavelength}a{normalised}.png\",\n",
    "    format='png',\n",
    "    bbox_inches='tight',\n",
    "    dpi=300\n",
    ")\n",
    "\n",
    "plt.show()"
   ]
  },
  {
   "cell_type": "code",
   "execution_count": null,
   "metadata": {},
   "outputs": [],
   "source": []
  }
 ],
 "metadata": {
  "kernelspec": {
   "display_name": "venv",
   "language": "python",
   "name": "python3"
  },
  "language_info": {
   "codemirror_mode": {
    "name": "ipython",
    "version": 3
   },
   "file_extension": ".py",
   "mimetype": "text/x-python",
   "name": "python",
   "nbconvert_exporter": "python",
   "pygments_lexer": "ipython3",
   "version": "3.11.3"
  }
 },
 "nbformat": 4,
 "nbformat_minor": 2
}
